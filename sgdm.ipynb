{
 "cells": [
  {
   "cell_type": "markdown",
   "metadata": {},
   "source": [
    "# Optimization in Data Science Part 3"
   ]
  },
  {
   "cell_type": "markdown",
   "metadata": {},
   "source": [
    "Referenced Textbook: https://cobweb.cs.uga.edu/~jam/scalation_guide/comp_data_science.pdf\n",
    "\n",
    "Specifically Appendix A (Starting Page 619)"
   ]
  },
  {
   "cell_type": "markdown",
   "metadata": {},
   "source": [
    "## Stochastic Gradient Descent with Momentum (SGDM)"
   ]
  },
  {
   "cell_type": "markdown",
   "metadata": {},
   "source": [
    "So, now that been over SGD and its benefits how can we improve it further?"
   ]
  },
  {
   "cell_type": "markdown",
   "metadata": {},
   "source": [
    "Well, SGD has a known problem. SGD has trouble navigating ravines, i.e. areas where the surface curves much more steeply in one dimension than in another, which are common around local optima. In these scenarios, SGD oscillates across the slopes of the ravine while only making hesitant progress along the bottom towards the local optimum as in Image 2. This hesistation may even results in scenarios where the global optimum solution is never found!\n",
    "\n",
    "![](./pics/sgdm/sgd_prob.jpg)\n",
    "\n",
    "Source: https://ruder.io/optimizing-gradient-descent/index.html#momentum"
   ]
  },
  {
   "cell_type": "markdown",
   "metadata": {},
   "source": [
    "How can we fix this problem?"
   ]
  },
  {
   "cell_type": "markdown",
   "metadata": {},
   "source": [
    "We can implement a strategy known as momentum. In this strategy, we will take a weighted average of the current gradient and the previous gradients. We will give preference to the more recent gradients by allowing previous gradients contributions to be exponentially decayed. This makes sense because in theory the previous gradients closest to the current gradient should give us a better idea of the direction we need to continue in that the previous gradients farther away. "
   ]
  },
  {
   "cell_type": "markdown",
   "metadata": {},
   "source": [
    "To do this, we need some way to weight the gradients:\n",
    "\n",
    "![](./pics/sgdm/sgdm_eqn.jpg)\n",
    "\n",
    "p is this case will replace the gradient (g) we were using perviously in SGD. We will also introduced a new hyperparameter here called the decay rate, β. This parameter controls how fast prior gradients are discounted. β is commonly set at 0.9\n",
    "\n",
    "If β is zero, that algorithm behaves the same as Stochastic Gradient Descent. At the other extreme, if β is 1, there is no decay and all previous gradients will weigh in, so eventually the new gradient value will have little impact and the algorithm will become oblivious to its local environment.\n",
    "\n",
    "Finally, when updating the parameter (weights) vector x, the hyperparameter ν determines how much weight to place on the current gradient versus the\n",
    "momentum when updating the parameter vector x. There are two special cases to consider.\n",
    "\n",
    "When v is 0, the algorithm becomes the originally SGD, and when x is 1, the algorithm becomes SGD with only momentum"
   ]
  },
  {
   "cell_type": "markdown",
   "metadata": {},
   "source": [
    "## Perceptron Code with SGD with Momentum"
   ]
  },
  {
   "cell_type": "code",
   "execution_count": 82,
   "metadata": {},
   "outputs": [],
   "source": [
    "import numpy as np\n",
    "from tensorflow.keras import activations\n",
    "import matplotlib.pyplot as plt\n",
    "import numpy as np"
   ]
  },
  {
   "cell_type": "markdown",
   "metadata": {},
   "source": [
    "### Initializing Data"
   ]
  },
  {
   "cell_type": "code",
   "execution_count": 83,
   "metadata": {},
   "outputs": [],
   "source": [
    "\n",
    "# 10 data points: one x1 x2 y\n",
    "xy = np.matrix (\n",
    "[[1.0, 0.0, 0.0, 0.5],\n",
    "[1.0, 0.0, 0.5, 0.3],\n",
    "[1.0, 0.0, 1.0, 0.2],\n",
    "[1.0, 0.5, 0.0, 0.8],\n",
    "[1.0, 0.5, 0.5, 0.5],\n",
    "[1.0, 0.5, 1.0, 0.3],\n",
    "[1.0, 1.0, 0.0, 1.0],\n",
    "[1.0, 1.0, 0.5, 0.8],\n",
    "[1.0, 1.0, 1.0, 0.5],\n",
    "[1.0, 1.0, 1.0, 0.6]]\n",
    ")\n",
    "\n",
    "# Taking first 3 columns of xy as matrix\n",
    "x = xy[:,0:3]\n",
    "\n",
    "# Taking last column of xy as array\n",
    "y = xy[:, 3]\n",
    "\n",
    "# Initializing B matrix\n",
    "b = np.matrix (\n",
    "[[0.1],\n",
    "[0.2],\n",
    "[0.1]]\n",
    ")"
   ]
  },
  {
   "cell_type": "markdown",
   "metadata": {},
   "source": [
    "### Finding SST"
   ]
  },
  {
   "cell_type": "code",
   "execution_count": 84,
   "metadata": {},
   "outputs": [],
   "source": [
    "# Create a function to find SST \n",
    "\n",
    "def getSST (target):\n",
    "    \n",
    "    # Finding the sum of squares total\n",
    "    y_mean = np.mean (target)\n",
    "    sst = 0\n",
    "\n",
    "    for each in target:\n",
    "        sst = sst + (each - y_mean) ** 2\n",
    "\n",
    "    # This just pulls the sst value out of the matrix to make it easier to work with\n",
    "    sst = np.ndarray.item(sst)\n",
    "    \n",
    "    return sst"
   ]
  },
  {
   "cell_type": "markdown",
   "metadata": {},
   "source": [
    "### Assigning Batches"
   ]
  },
  {
   "cell_type": "code",
   "execution_count": 85,
   "metadata": {},
   "outputs": [],
   "source": [
    "# Create a function to randomly break data in batches based on batch size\n",
    "# This function ensures that all data will be represented in a batch and that each batch is randomly selected\n",
    "\n",
    "import math\n",
    "\n",
    "def makeBatches(data, bs):\n",
    "    \n",
    "   num_batch = math.ceil(data.shape[0] / bs)\n",
    "    \n",
    "   pos_choices = range(0, data.shape[0])\n",
    "   \n",
    "   rand_list = np.random.choice(pos_choices, data.shape[0], False)\n",
    "   \n",
    "   batch_list = np.split(rand_list, num_batch)\n",
    "      \n",
    "   return batch_list"
   ]
  },
  {
   "cell_type": "markdown",
   "metadata": {},
   "source": [
    "### Getting Values for Batches"
   ]
  },
  {
   "cell_type": "code",
   "execution_count": 86,
   "metadata": {},
   "outputs": [],
   "source": [
    "# Create a function to actually get value from original training set based on batch_list\n",
    "\n",
    "def getBatchVals(batch):\n",
    "    \n",
    "    batch_vals_x = []\n",
    "    batch_vals_y = []\n",
    "    \n",
    "    for each in batch:\n",
    "        batch_vals_x.append((x[each][:]).tolist()[0])\n",
    "        batch_vals_y.append((y[each][:]).tolist()[0])\n",
    "\n",
    "    batch_vals_x = np.matrix(batch_vals_x)\n",
    "        \n",
    "    return batch_vals_x, batch_vals_y"
   ]
  },
  {
   "cell_type": "markdown",
   "metadata": {},
   "source": [
    "### Calculating Gradient"
   ]
  },
  {
   "cell_type": "code",
   "execution_count": 87,
   "metadata": {},
   "outputs": [],
   "source": [
    "# Create a function to calcuate gradients\n",
    "\n",
    "def calcGrad (x, y, b):\n",
    "    \n",
    "    # Pre-activation vector\n",
    "    u = np.dot(x, b)\n",
    "    \n",
    "    # Predicted value vector\n",
    "    y_hat = activations.sigmoid(u)\n",
    "    \n",
    "    # Negative error vector\n",
    "    e = y - y_hat\n",
    "    \n",
    "    # Correction vector (delta or d)\n",
    "    d = - e * (y_hat * (1 - y_hat))\n",
    "    \n",
    "    # Gradients vector\n",
    "    grad = np.transpose(x).dot(d)\n",
    "    \n",
    "    # Sum of squared errors\n",
    "    sse = np.sum(e * e)\n",
    "    \n",
    "    return grad, sse"
   ]
  },
  {
   "cell_type": "markdown",
   "metadata": {},
   "source": [
    "### Setting Hyperparameters"
   ]
  },
  {
   "cell_type": "code",
   "execution_count": 88,
   "metadata": {},
   "outputs": [],
   "source": [
    "# Setting new_parms = b so original value will not get over written\n",
    "new_parms = b\n",
    "\n",
    "# Lists to hold values for plotting\n",
    "sse_list = []\n",
    "rsq_list = []\n",
    "x_list = []\n",
    "\n",
    "# Find SST\n",
    "sst = getSST(y)\n",
    "\n",
    "# Set max epochs\n",
    "max_iters = 100\n",
    "\n",
    "# Set bath size\n",
    "batch_size = 5\n",
    "\n",
    "# Set learning rate\n",
    "eta = 1\n",
    "\n",
    "# Set decay rate\n",
    "# Standard value is 0.9\n",
    "beta = .9\n",
    "\n",
    "# Set v \n",
    "nu = .5"
   ]
  },
  {
   "cell_type": "markdown",
   "metadata": {},
   "source": [
    "### Performing SGD with Momentum"
   ]
  },
  {
   "cell_type": "code",
   "execution_count": 89,
   "metadata": {},
   "outputs": [],
   "source": [
    "# Outer loop handles interations for epochs\n",
    "for i in range(0, max_iters):\n",
    "    \n",
    "    # Randomly getting list of index positions of origional data for batches\n",
    "    batch_list = makeBatches(x, batch_size)\n",
    "\n",
    "    # Resetting momentum for each iteration\n",
    "    momentum_list = []\n",
    "    inc = 0\n",
    "    \n",
    "    # Inner loop iterated through all batches of data in each epoch\n",
    "    for batch in batch_list:\n",
    "        \n",
    "        # Getting data associated with each batch\n",
    "        batch_vals_x, batch_vals_y = getBatchVals(batch)\n",
    "        \n",
    "        # Calculating gradients\n",
    "        grad, sse = calcGrad(batch_vals_x, batch_vals_y, new_parms)\n",
    "        \n",
    "        # Getting first momentum value\n",
    "        if (inc == 0):\n",
    "            momentum_list.append((1 - beta) * grad)\n",
    "        # Getting all other momentum values from previous momentum value\n",
    "        else:\n",
    "            momentum_list.append((1 - beta) * grad + beta * momentum_list[inc - 1])\n",
    "            \n",
    "            \n",
    "        # Updated weights vector\n",
    "        new_parms = new_parms - eta * ( (1 - nu) * grad + nu * momentum_list[inc] )\n",
    "        # print (momentum_list)\n",
    "\n",
    "    # Appending all to lists so we can plot later\n",
    "    x_list.append(i)\n",
    "    sse_list.append(sse)\n",
    "    rsq_list.append(1-sse/sst)"
   ]
  },
  {
   "cell_type": "markdown",
   "metadata": {},
   "source": [
    "### Plots"
   ]
  },
  {
   "cell_type": "code",
   "execution_count": 90,
   "metadata": {},
   "outputs": [
    {
     "data": {
      "image/png": "[encoded data removed]",
      "text/plain": [
       "<Figure size 1440x720 with 2 Axes>"
      ]
     },
     "metadata": {
      "needs_background": "light"
     },
     "output_type": "display_data"
    }
   ],
   "source": [
    "# To plot our findings\n",
    "\n",
    "plt.figure(figsize=(20, 10))\n",
    "\n",
    "plt.subplot(1, 2, 1)\n",
    "plt.plot(x_list, sse_list)\n",
    "plt.title('SSE vs Iterations')\n",
    "plt.xlabel('Iterations')\n",
    "plt.ylabel('SSE')\n",
    "\n",
    "plt.subplot(1, 2, 2)\n",
    "plt.plot(x_list, rsq_list)\n",
    "plt.title(\"R^2 vs Iterations\")\n",
    "plt.xlabel('Iterations')\n",
    "plt.ylabel('R^2')\n",
    "\n",
    "\n",
    "plt.show()"
   ]
  }
 ],
 "metadata": {
  "interpreter": {
   "hash": "221a3162a34c18c9a99c58801e6d1a4585a55d88c092b8d075b8d85a68ef51ea"
  },
  "kernelspec": {
   "display_name": "Python 3.8.11 ('base')",
   "language": "python",
   "name": "python3"
  },
  "language_info": {
   "codemirror_mode": {
    "name": "ipython",
    "version": 3
   },
   "file_extension": ".py",
   "mimetype": "text/x-python",
   "name": "python",
   "nbconvert_exporter": "python",
   "pygments_lexer": "ipython3",
   "version": "3.8.11"
  },
  "orig_nbformat": 4
 },
 "nbformat": 4,
 "nbformat_minor": 2
}
