{
 "cells": [
  {
   "cell_type": "markdown",
   "metadata": {},
   "source": [
    "# Optimization in Data Science"
   ]
  },
  {
   "cell_type": "markdown",
   "metadata": {},
   "source": [
    "Referenced Textbook: https://cobweb.cs.uga.edu/~jam/scalation_guide/comp_data_science.pdf\n",
    "\n",
    "Specifically Appendix A (Starting Page 619)"
   ]
  },
  {
   "cell_type": "markdown",
   "metadata": {},
   "source": [
    "## Gradient Decent"
   ]
  },
  {
   "cell_type": "markdown",
   "metadata": {},
   "source": [
    "*** Reminder: Brush up on you Calculus especially derivatives and the chain rule ***"
   ]
  },
  {
   "cell_type": "markdown",
   "metadata": {},
   "source": [
    "### What is it?\n",
    "\n",
    "Gradient Descent is an algorithm that solves optimization problems using first-order iterations. Since it is designed to find the local minimum of a differential function, gradient descent is widely used in machine learning models to find the best parameters that minimize the model’s cost function. "
   ]
  },
  {
   "cell_type": "markdown",
   "metadata": {},
   "source": [
    "![](pics/gd.png)"
   ]
  },
  {
   "cell_type": "markdown",
   "metadata": {},
   "source": [
    "### Why do we need it? \n",
    "\n",
    "Data science uses optimization to fit parameters in models, where for example a quality of fit measure (e.g.,sum of squared errors) is minimized. Typically, gradients are involved. In some cases, the gradient of the measure can be set to zero allowing the optimal parameters to be determined by matrix factorization. For complex models, this may not work, so an optimization algorithm that moves in the direction opposite to the gradient can be applied.\n",
    "\n",
    "In addition as the number of variables or features in our problem increases, it becomes more computationally expensive to use matrix factorization or other pure linear alegebra techniques. So we can use the gradient descent algoritm to save time in computation. Also, gradient descent allows for parrallization and distributed calculations across processors. \n"
   ]
  },
  {
   "cell_type": "markdown",
   "metadata": {},
   "source": [
    "### How does it work?\n",
    "\n",
    "![](pics/gd_work.png)\n",
    "\n",
    "Steps:\n",
    "\n",
    "1. Initialize the inputs (weights) randomly and select a learning rate\n",
    "1. Calculate the gradient \n",
    "1. Adjust the inputs (weights) with the gradients\n",
    "1. Use new inputs (weights) to repeats steps 2 and 3 until some condition (ie. inputs (weights) no longer significantly reduce error, max iterations, etc.)"
   ]
  },
  {
   "cell_type": "markdown",
   "metadata": {},
   "source": [
    "### Diagram"
   ]
  },
  {
   "cell_type": "markdown",
   "metadata": {},
   "source": [
    "### Coding Example\n",
    "\n",
    "![](pics/cost_fnt.png)\n",
    "\n",
    "Visual repersentation of the cost or objective function:\n",
    "\n",
    "![](pics/cfg.jpg)"
   ]
  },
  {
   "cell_type": "markdown",
   "metadata": {},
   "source": [
    "#### 1. INITIALIZE INPUTS (WEIGHTS)"
   ]
  },
  {
   "cell_type": "code",
   "execution_count": 125,
   "metadata": {},
   "outputs": [
    {
     "data": {
      "text/plain": [
       "[1.1423993973622126, 9.68120682814353]"
      ]
     },
     "execution_count": 125,
     "metadata": {},
     "output_type": "execute_result"
    }
   ],
   "source": [
    "# Start by initializing our inputs (weights)\n",
    "\n",
    "import numpy as np\n",
    "\n",
    "X = [np.random.random() * 10, np.random.random() * 10]\n",
    "X"
   ]
  },
  {
   "cell_type": "markdown",
   "metadata": {},
   "source": [
    "#### 2. CALCULATE GRADIENT "
   ]
  },
  {
   "cell_type": "markdown",
   "metadata": {},
   "source": [
    "Formula for Gradient in 2 Dimensions:\n",
    "\n",
    "![](pics/grad.jpg)"
   ]
  },
  {
   "cell_type": "code",
   "execution_count": 126,
   "metadata": {},
   "outputs": [
    {
     "data": {
      "text/plain": [
       "[2*x - 8, 2*y - 4]"
      ]
     },
     "execution_count": 126,
     "metadata": {},
     "output_type": "execute_result"
    }
   ],
   "source": [
    "# Calculating our gradient!\n",
    "# We can do this manually or with the python package sympy\n",
    "\n",
    "import sympy as sp\n",
    "\n",
    "# Define our initatial cost function or more generally our function to minimize\n",
    "# In this case we will let x1 = x and x2 = y\n",
    "\n",
    "x = sp.Symbol('x')\n",
    "y = sp.Symbol('y')\n",
    "\n",
    "fox = (x - 4) ** 2 + (y - 2) ** 2\n",
    "\n",
    "dx_fox = sp.diff(fox, x)\n",
    "\n",
    "dy_fox = sp.diff(fox, y)\n",
    "\n",
    "grad_vec = [dx_fox, dy_fox]\n",
    "\n",
    "grad_vec\n"
   ]
  },
  {
   "cell_type": "code",
   "execution_count": 127,
   "metadata": {},
   "outputs": [],
   "source": [
    "# Make a function to return the value from the gradiant for a given input\n",
    "\n",
    "def getGrad (grad_vec, var, input):\n",
    "    \n",
    "    if (var == 0):\n",
    "        grad = grad_vec[var].evalf(subs={x:input})\n",
    "    else:\n",
    "        grad = grad_vec[var].evalf(subs={y:input})\n",
    "    \n",
    "    return grad"
   ]
  },
  {
   "cell_type": "markdown",
   "metadata": {},
   "source": [
    "#### 3. UPDATE INPUTS (WEIGHTS) "
   ]
  },
  {
   "cell_type": "markdown",
   "metadata": {},
   "source": [
    "Equation showing how we should update our inputs (weights)\n",
    "\n",
    "![](pics/gd_uf.jpg)"
   ]
  },
  {
   "cell_type": "code",
   "execution_count": 131,
   "metadata": {},
   "outputs": [],
   "source": [
    "# Make a gradient decent function from the above equation!\n",
    "# eta is our learning rate in this case and we will set it to .01\n",
    "\n",
    "def gradientDecent (X, eta):\n",
    "    X[0] = X[0] - eta * getGrad(grad_vec, 0, X[0])\n",
    "    X[1] = X[1] - eta * getGrad(grad_vec, 1, X[1])\n",
    "    return X\n",
    "    "
   ]
  },
  {
   "cell_type": "code",
   "execution_count": 132,
   "metadata": {},
   "outputs": [
    {
     "name": "stdout",
     "output_type": "stream",
     "text": [
      "[1.71391951788977, 8.14496546251482]\n",
      "[2.17113561431182, 6.91597237001186]\n",
      "[2.53690849144945, 5.93277789600949]\n",
      "[2.82952679315956, 5.14622231680759]\n",
      "[3.06362143452765, 4.51697785344607]\n",
      "[3.25089714762212, 4.01358228275686]\n",
      "[3.40071771809770, 3.61086582620549]\n",
      "[3.52057417447816, 3.28869266096439]\n",
      "[3.61645933958253, 3.03095412877151]\n",
      "[3.69316747166602, 2.82476330301721]\n",
      "[3.75453397733282, 2.65981064241377]\n",
      "[3.80362718186625, 2.52784851393101]\n",
      "[3.84290174549300, 2.42227881114481]\n",
      "[3.87432139639440, 2.33782304891585]\n",
      "[3.89945711711552, 2.27025843913268]\n",
      "[3.91956569369242, 2.21620675130614]\n",
      "[3.93565255495393, 2.17296540104491]\n",
      "[3.94852204396315, 2.13837232083593]\n",
      "[3.95881763517052, 2.11069785666875]\n",
      "[3.96705410813641, 2.08855828533500]\n",
      "[3.97364328650913, 2.07084662826800]\n",
      "[3.97891462920730, 2.05667730261440]\n",
      "[3.98313170336584, 2.04534184209152]\n",
      "[3.98650536269268, 2.03627347367321]\n",
      "[3.98920429015414, 2.02901877893857]\n",
      "[3.99136343212331, 2.02321502315086]\n",
      "[3.99309074569865, 2.01857201852069]\n",
      "[3.99447259655892, 2.01485761481655]\n",
      "[3.99557807724714, 2.01188609185324]\n",
      "[3.99646246179771, 2.00950887348259]\n",
      "[3.99716996943817, 2.00760709878607]\n",
      "[3.99773597555053, 2.00608567902886]\n",
      "[3.99818878044043, 2.00486854322309]\n",
      "[3.99855102435234, 2.00389483457847]\n",
      "[3.99884081948187, 2.00311586766278]\n",
      "[3.99907265558550, 2.00249269413022]\n",
      "[3.99925812446840, 2.00199415530418]\n",
      "[3.99940649957472, 2.00159532424334]\n",
      "[3.99952519965978, 2.00127625939467]\n",
      "[3.99962015972782, 2.00102100751574]\n",
      "[3.99969612778226, 2.00081680601259]\n",
      "[3.99975690222580, 2.00065344481007]\n",
      "[3.99980552178064, 2.00052275584806]\n",
      "[3.99984441742451, 2.00041820467845]\n",
      "[3.99987553393961, 2.00033456374276]\n",
      "[3.99990042715169, 2.00026765099421]\n",
      "[3.99992034172135, 2.00021412079536]\n",
      "[3.99993627337708, 2.00017129663629]\n",
      "[3.99994901870167, 2.00013703730903]\n",
      "[3.99995921496133, 2.00010962984723]\n",
      "[3.99996737196907, 2.00008770387778]\n",
      "[3.99997389757525, 2.00007016310223]\n",
      "[3.99997911806020, 2.00005613048178]\n",
      "[3.99998329444816, 2.00004490438542]\n",
      "[3.99998663555853, 2.00003592350834]\n",
      "[3.99998930844682, 2.00002873880667]\n",
      "[3.99999144675746, 2.00002299104534]\n",
      "[3.99999315740597, 2.00001839283627]\n",
      "[3.99999452592477, 2.00001471426902]\n",
      "[3.99999562073982, 2.00001177141521]\n",
      "[3.99999649659186, 2.00000941713217]\n",
      "[3.99999719727348, 2.00000753370574]\n",
      "[3.99999775781879, 2.00000602696459]\n",
      "[3.99999820625503, 2.00000482157167]\n",
      "[3.99999856500402, 2.00000385725734]\n",
      "[3.99999885200322, 2.00000308580587]\n",
      "[3.99999908160258, 2.00000246864470]\n",
      "[3.99999926528206, 2.00000197491576]\n",
      "[3.99999941222565, 2.00000157993261]\n",
      "[3.99999952978052, 2.00000126394608]\n",
      "[3.99999962382441, 2.00000101115687]\n",
      "[3.99999969905953, 2.00000080892549]\n",
      "[3.99999975924763, 2.00000064714040]\n",
      "[3.99999980739810, 2.00000051771232]\n",
      "[3.99999984591848, 2.00000041416985]\n",
      "[3.99999987673478, 2.00000033133588]\n",
      "[3.99999990138783, 2.00000026506871]\n",
      "[3.99999992111026, 2.00000021205496]\n",
      "[3.99999993688821, 2.00000016964397]\n",
      "[3.99999994951057, 2.00000013571518]\n",
      "[3.99999995960845, 2.00000010857214]\n",
      "[3.99999996768676, 2.00000008685771]\n",
      "[3.99999997414941, 2.00000006948617]\n",
      "[3.99999997931953, 2.00000005558894]\n",
      "[3.99999998345562, 2.00000004447115]\n",
      "[3.99999998676450, 2.00000003557692]\n",
      "[3.99999998941160, 2.00000002846154]\n",
      "[3.99999999152928, 2.00000002276923]\n",
      "[3.99999999322342, 2.00000001821538]\n",
      "[3.99999999457874, 2.00000001457231]\n",
      "[3.99999999566299, 2.00000001165785]\n",
      "[3.99999999653039, 2.00000000932628]\n",
      "[3.99999999722431, 2.00000000746102]\n",
      "[3.99999999777945, 2.00000000596882]\n",
      "[3.99999999822356, 2.00000000477505]\n",
      "[3.99999999857885, 2.00000000382004]\n",
      "[3.99999999886308, 2.00000000305603]\n",
      "[3.99999999909046, 2.00000000244483]\n",
      "[3.99999999927237, 2.00000000195586]\n",
      "[3.99999999941790, 2.00000000156469]\n"
     ]
    }
   ],
   "source": [
    "# Now lets put it in a loop to see how it behave over many iterations\n",
    "\n",
    "max_iter = 100\n",
    "\n",
    "X1_list = []\n",
    "X2_list = []\n",
    "\n",
    "for i in range (0, max_iter):\n",
    "    \n",
    "    X = gradientDecent (X , .1)\n",
    "    print(X)\n",
    "    X1_list.append(X[0])\n",
    "    X2_list.append(X[1])"
   ]
  },
  {
   "cell_type": "code",
   "execution_count": 133,
   "metadata": {},
   "outputs": [
    {
     "data": {
      "image/png": "[encoded data removed]",
      "text/plain": [
       "<Figure size 1440x720 with 2 Axes>"
      ]
     },
     "metadata": {
      "needs_background": "light"
     },
     "output_type": "display_data"
    }
   ],
   "source": [
    "# plot our findings\n",
    "\n",
    "import matplotlib.pyplot as plt\n",
    "\n",
    "# Make a list of 0 to 1000 so we can plot our iterations\n",
    "\n",
    "iters = range(0, max_iter)\n",
    "\n",
    "plt.figure(figsize=(20, 10))\n",
    "\n",
    "plt.subplot(1, 2, 1)\n",
    "plt.plot(iters, X1_list)\n",
    "plt.title('X1')\n",
    "plt.xlabel('Iterations')\n",
    "plt.ylabel('X1 Inputs')\n",
    "\n",
    "plt.subplot(1, 2, 2)\n",
    "plt.plot(iters, X2_list)\n",
    "plt.title(\"X2\")\n",
    "plt.xlabel('Iterations')\n",
    "plt.ylabel('X2 Inputs')\n",
    "\n",
    "\n",
    "plt.show()"
   ]
  },
  {
   "cell_type": "markdown",
   "metadata": {},
   "source": [
    "## Stochastic Gradient Descent (SGD)"
   ]
  },
  {
   "cell_type": "code",
   "execution_count": null,
   "metadata": {},
   "outputs": [],
   "source": []
  },
  {
   "cell_type": "markdown",
   "metadata": {},
   "source": [
    "## SGD with ADAptive Moment Estimation (ADAM)"
   ]
  },
  {
   "cell_type": "code",
   "execution_count": null,
   "metadata": {},
   "outputs": [],
   "source": []
  },
  {
   "cell_type": "markdown",
   "metadata": {},
   "source": [
    "##  Conjugate Gradient"
   ]
  },
  {
   "cell_type": "code",
   "execution_count": null,
   "metadata": {},
   "outputs": [],
   "source": []
  }
 ],
 "metadata": {
  "interpreter": {
   "hash": "31f2aee4e71d21fbe5cf8b01ff0e069b9275f58929596ceb00d14d90e3e16cd6"
  },
  "kernelspec": {
   "display_name": "Python 3.9.5 64-bit",
   "language": "python",
   "name": "python3"
  },
  "language_info": {
   "codemirror_mode": {
    "name": "ipython",
    "version": 3
   },
   "file_extension": ".py",
   "mimetype": "text/x-python",
   "name": "python",
   "nbconvert_exporter": "python",
   "pygments_lexer": "ipython3",
   "version": "3.8.11"
  },
  "orig_nbformat": 4
 },
 "nbformat": 4,
 "nbformat_minor": 2
}
