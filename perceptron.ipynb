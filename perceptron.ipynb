{
 "cells": [
  {
   "cell_type": "markdown",
   "metadata": {},
   "source": [
    "# Neural Networks Part 1"
   ]
  },
  {
   "cell_type": "markdown",
   "metadata": {},
   "source": [
    "## What is a Perceptron?"
   ]
  },
  {
   "cell_type": "markdown",
   "metadata": {},
   "source": [
    "Essentaily is a neural network at its most basic\n",
    "\n",
    "A single-layer perceptron is the basic unit of a neural network. A perceptron consists of input values, weights and a bias, a weighted sum and activation function.\n",
    "\n",
    "The perceptron was first introduced by American psychologist, Frank Rosenblatt in 1957 at Cornell Aeronautical Laboratory (here is a link to the original paper if you are interested). Rosenblatt was heavily inspired by the biological neuron and its ability to learn. Rosenblatt’s perceptron consists of one or more inputs, a processor, and only one output.\n",
    "\n",
    "![](./pics/perceptron/ptron.png)\n",
    "\n",
    "For more info on the background and theory of perceptron see the link below:\n",
    "\n",
    "https://towardsdatascience.com/what-is-a-perceptron-basics-of-neural-networks-c4cfea20c590"
   ]
  },
  {
   "cell_type": "markdown",
   "metadata": {},
   "source": [
    "More precisely we can think about it in the following way:\n",
    "\n",
    "![](./pics/perceptron/ptron2.jpg)"
   ]
  },
  {
   "cell_type": "markdown",
   "metadata": {},
   "source": [
    "Now lets run through the guts of how this perceptron will work!\n",
    "\n",
    "We will start with the model equation from linear regression\n",
    "\n",
    "![](./pics/perceptron/m1.jpg)\n",
    "\n",
    "Now, we need to take the linear combination of inputs, b . x, and apply an activation function\n",
    "\n",
    "![](./pics/perceptron/m2.jpg)\n",
    "\n"
   ]
  },
  {
   "cell_type": "markdown",
   "metadata": {},
   "source": [
    "## Imports"
   ]
  },
  {
   "cell_type": "code",
   "execution_count": 1,
   "metadata": {},
   "outputs": [],
   "source": [
    "import numpy as np\n",
    "from tensorflow.keras import activations\n",
    "import matplotlib.pyplot as plt\n",
    "import numpy as np"
   ]
  },
  {
   "cell_type": "markdown",
   "metadata": {},
   "source": [
    "## Creating Inputs"
   ]
  },
  {
   "cell_type": "code",
   "execution_count": 2,
   "metadata": {},
   "outputs": [],
   "source": [
    "# 9 data points: one x1 x2 y\n",
    "\n",
    "xy = np.matrix (\n",
    "[[1.0, 0.0, 0.0, 0.5],\n",
    "[1.0, 0.0, 0.5, 0.3],\n",
    "[1.0, 0.0, 1.0, 0.2],\n",
    "[1.0, 0.5, 0.0, 0.8],\n",
    "[1.0, 0.5, 0.5, 0.5],\n",
    "[1.0, 0.5, 1.0, 0.3],\n",
    "[1.0, 1.0, 0.0, 1.0],\n",
    "[1.0, 1.0, 0.5, 0.8],\n",
    "[1.0, 1.0, 1.0, 0.5]]\n",
    ")"
   ]
  },
  {
   "cell_type": "code",
   "execution_count": 3,
   "metadata": {},
   "outputs": [],
   "source": [
    "# Taking first 3 columns of xy as matrix\n",
    "\n",
    "x = xy[:,0:3]"
   ]
  },
  {
   "cell_type": "code",
   "execution_count": 4,
   "metadata": {},
   "outputs": [],
   "source": [
    "# Taking last column of xy as array\n",
    "\n",
    "y = xy[:, 3]"
   ]
  },
  {
   "cell_type": "code",
   "execution_count": 5,
   "metadata": {},
   "outputs": [],
   "source": [
    "# Initializing B matrix\n",
    "\n",
    "b = np.matrix (\n",
    "[[0.1],\n",
    "[0.2],\n",
    "[0.1]]\n",
    ")"
   ]
  },
  {
   "cell_type": "markdown",
   "metadata": {},
   "source": [
    "## Testing Perceptron Parts"
   ]
  },
  {
   "cell_type": "code",
   "execution_count": 6,
   "metadata": {},
   "outputs": [
    {
     "data": {
      "text/plain": [
       "matrix([[0.1 ],\n",
       "        [0.15],\n",
       "        [0.2 ],\n",
       "        [0.2 ],\n",
       "        [0.25],\n",
       "        [0.3 ],\n",
       "        [0.3 ],\n",
       "        [0.35],\n",
       "        [0.4 ]])"
      ]
     },
     "execution_count": 6,
     "metadata": {},
     "output_type": "execute_result"
    }
   ],
   "source": [
    "# Pre-activation vector\n",
    "\n",
    "# u = np.dot(x, b)\n",
    "# u = np.matmul(x, b)\n",
    "u = x.dot(b)\n",
    "u"
   ]
  },
  {
   "cell_type": "code",
   "execution_count": 7,
   "metadata": {},
   "outputs": [
    {
     "data": {
      "text/plain": [
       "<tf.Tensor: shape=(9, 1), dtype=float64, numpy=\n",
       "array([[0.52497919],\n",
       "       [0.53742985],\n",
       "       [0.549834  ],\n",
       "       [0.549834  ],\n",
       "       [0.5621765 ],\n",
       "       [0.57444252],\n",
       "       [0.57444252],\n",
       "       [0.58661758],\n",
       "       [0.59868766]])>"
      ]
     },
     "execution_count": 7,
     "metadata": {},
     "output_type": "execute_result"
    }
   ],
   "source": [
    "# Prediction vector\n",
    "\n",
    "y_hat = activations.sigmoid(u)\n",
    "y_hat\n"
   ]
  },
  {
   "cell_type": "code",
   "execution_count": 8,
   "metadata": {},
   "outputs": [
    {
     "data": {
      "text/plain": [
       "<tf.Tensor: shape=(9, 1), dtype=float64, numpy=\n",
       "array([[ 0.02497919],\n",
       "       [ 0.23742985],\n",
       "       [ 0.349834  ],\n",
       "       [-0.250166  ],\n",
       "       [ 0.0621765 ],\n",
       "       [ 0.27444252],\n",
       "       [-0.42555748],\n",
       "       [-0.21338242],\n",
       "       [ 0.09868766]])>"
      ]
     },
     "execution_count": 8,
     "metadata": {},
     "output_type": "execute_result"
    }
   ],
   "source": [
    "# Negative error vector\n",
    "\n",
    "e = y_hat - y\n",
    "e"
   ]
  },
  {
   "cell_type": "code",
   "execution_count": 9,
   "metadata": {},
   "outputs": [
    {
     "data": {
      "text/plain": [
       "<tf.Tensor: shape=(9, 1), dtype=float64, numpy=\n",
       "array([[ 0.00622921],\n",
       "       [ 0.05902482],\n",
       "       [ 0.08658971],\n",
       "       [-0.06192023],\n",
       "       [ 0.01530376],\n",
       "       [ 0.06708975],\n",
       "       [-0.10403106],\n",
       "       [-0.05174468],\n",
       "       [ 0.02371077]])>"
      ]
     },
     "execution_count": 9,
     "metadata": {},
     "output_type": "execute_result"
    }
   ],
   "source": [
    "# Correction vector\n",
    "\n",
    "delta = e * (y_hat * (1 - y_hat))\n",
    "delta"
   ]
  },
  {
   "cell_type": "code",
   "execution_count": 10,
   "metadata": {},
   "outputs": [
    {
     "data": {
      "text/plain": [
       "matrix([[ 0.04025205],\n",
       "        [-0.12182833],\n",
       "        [ 0.18868219]])"
      ]
     },
     "execution_count": 10,
     "metadata": {},
     "output_type": "execute_result"
    }
   ],
   "source": [
    "# Gradient vector\n",
    "\n",
    "g = np.transpose(x).dot(delta)\n",
    "g"
   ]
  },
  {
   "cell_type": "code",
   "execution_count": 11,
   "metadata": {},
   "outputs": [
    {
     "data": {
      "text/plain": [
       "matrix([[ 0.05974795],\n",
       "        [ 0.32182833],\n",
       "        [-0.08868219]])"
      ]
     },
     "execution_count": 11,
     "metadata": {},
     "output_type": "execute_result"
    }
   ],
   "source": [
    "# Updated values\n",
    "\n",
    "b = b - g\n",
    "b"
   ]
  },
  {
   "cell_type": "code",
   "execution_count": 12,
   "metadata": {},
   "outputs": [
    {
     "data": {
      "text/plain": [
       "0.5822222222222222"
      ]
     },
     "execution_count": 12,
     "metadata": {},
     "output_type": "execute_result"
    }
   ],
   "source": [
    "# Finding the sum of squares total\n",
    "\n",
    "y_mean = np.mean (y)\n",
    "sst = 0\n",
    "\n",
    "for each in y:\n",
    "    sst = sst + (each - y_mean) ** 2\n",
    "\n",
    "# This just pulls the sst value out of the matrix to make it easier to work with\n",
    "sst = np.ndarray.item(sst)\n",
    "sst"
   ]
  },
  {
   "cell_type": "code",
   "execution_count": 13,
   "metadata": {},
   "outputs": [
    {
     "data": {
      "text/plain": [
       "0.5575188415228323"
      ]
     },
     "execution_count": 13,
     "metadata": {},
     "output_type": "execute_result"
    }
   ],
   "source": [
    "# Calculating sum of squared error\n",
    "\n",
    "sse = np.sum(e * e)\n",
    "sse\n"
   ]
  },
  {
   "cell_type": "code",
   "execution_count": 14,
   "metadata": {},
   "outputs": [
    {
     "data": {
      "text/plain": [
       "0.04242947066689107"
      ]
     },
     "execution_count": 14,
     "metadata": {},
     "output_type": "execute_result"
    }
   ],
   "source": [
    "# Calculating r squared \n",
    "\n",
    "r_sq = 1 - (sse/sst)\n",
    "r_sq"
   ]
  },
  {
   "cell_type": "markdown",
   "metadata": {},
   "source": [
    "## Putting Perceptron In Loop"
   ]
  },
  {
   "cell_type": "code",
   "execution_count": 15,
   "metadata": {},
   "outputs": [],
   "source": [
    "# Setting b as new variable so it will not over written in loop\n",
    "new_params = b"
   ]
  },
  {
   "cell_type": "code",
   "execution_count": 16,
   "metadata": {},
   "outputs": [],
   "source": [
    "# Lists to hold values for plotting\n",
    "\n",
    "sse_list = []\n",
    "rsq_list = []\n",
    "x_list = []"
   ]
  },
  {
   "cell_type": "code",
   "execution_count": 17,
   "metadata": {},
   "outputs": [
    {
     "data": {
      "text/plain": [
       "0.5822222222222222"
      ]
     },
     "execution_count": 17,
     "metadata": {},
     "output_type": "execute_result"
    }
   ],
   "source": [
    "# Finding the sum of squares total\n",
    "\n",
    "y_mean = np.mean (y)\n",
    "sst = 0\n",
    "\n",
    "for each in y:\n",
    "    sst = sst + (each - y_mean) ** 2\n",
    "\n",
    "# This just pulls the sst value out of the matrix to make it easier to work with\n",
    "sst = np.ndarray.item(sst)\n",
    "sst"
   ]
  },
  {
   "cell_type": "code",
   "execution_count": 18,
   "metadata": {},
   "outputs": [],
   "source": [
    "# 25 epochs for perceptron\n",
    "\n",
    "for i in range(0, 25):\n",
    "    \n",
    "    # Pre-activation vector\n",
    "    # u = np.dot(x, new_params)\n",
    "    u = x.dot(new_params)\n",
    "    # Predicted value vector\n",
    "    y_hat = activations.sigmoid(u)\n",
    "    # Negative error vector\n",
    "    e = y_hat - y\n",
    "    # Correction vector\n",
    "    d = e * (y_hat * (1 - y_hat))\n",
    "    # Gradients vector\n",
    "    grad = np.transpose(x).dot(d)\n",
    "    # Updated values vector\n",
    "    new_params = new_params - grad\n",
    "\n",
    "    # Sum of squared errors\n",
    "    sse = np.sum(e * e)\n",
    "\n",
    "    x_list.append(i)\n",
    "    sse_list.append(sse)\n",
    "    rsq_list.append(1-sse/sst)\n"
   ]
  },
  {
   "cell_type": "code",
   "execution_count": 21,
   "metadata": {},
   "outputs": [
    {
     "data": {
      "image/png": "[encoded data removed]",
      "text/plain": [
       "<Figure size 1440x720 with 2 Axes>"
      ]
     },
     "metadata": {
      "needs_background": "light"
     },
     "output_type": "display_data"
    }
   ],
   "source": [
    "# Plotting our findings\n",
    "\n",
    "plt.figure(figsize=(20, 10))\n",
    "\n",
    "plt.subplot(1, 2, 1)\n",
    "plt.plot(x_list, sse_list)\n",
    "plt.title('SSE vs Iterations')\n",
    "plt.xlabel('Iterations')\n",
    "plt.ylabel('SSE')\n",
    "\n",
    "plt.subplot(1, 2, 2)\n",
    "plt.plot(x_list, rsq_list)\n",
    "plt.title(\"R^2 vs Iterations\")\n",
    "plt.xlabel('Iterations')\n",
    "plt.ylabel('R^2')\n",
    "\n",
    "plt.show()"
   ]
  },
  {
   "cell_type": "code",
   "execution_count": 20,
   "metadata": {},
   "outputs": [
    {
     "data": {
      "image/png": "[encoded data removed]",
      "text/plain": [
       "<Figure size 432x288 with 1 Axes>"
      ]
     },
     "metadata": {
      "needs_background": "light"
     },
     "output_type": "display_data"
    }
   ],
   "source": [
    "# Plotting rsq vs epochs\n",
    "plt.plot(x_list, rsq_list)\n",
    "plt.show()"
   ]
  }
 ],
 "metadata": {
  "interpreter": {
   "hash": "8338625309694086bca43e95af1b4ba2228479321112d6e6d2d9c087c2893b51"
  },
  "kernelspec": {
   "display_name": "Python 3.9.7 ('base')",
   "language": "python",
   "name": "python3"
  },
  "language_info": {
   "codemirror_mode": {
    "name": "ipython",
    "version": 3
   },
   "file_extension": ".py",
   "mimetype": "text/x-python",
   "name": "python",
   "nbconvert_exporter": "python",
   "pygments_lexer": "ipython3",
   "version": "3.8.11"
  },
  "orig_nbformat": 4
 },
 "nbformat": 4,
 "nbformat_minor": 2
}
